{
 "cells": [
  {
   "cell_type": "markdown",
   "metadata": {},
   "source": [
    "# Forcast Churn Report of Interconnect"
   ]
  },
  {
   "cell_type": "markdown",
   "metadata": {},
   "source": [
    "The telecom operator Interconnect would like to be able to forecast their churn of clients. If it's discovered that a user is planning to leave, they will be offered promotional codes and special plan options. Interconnect's marketing team has collected some of their clientele's personal data, including information about their plans and contracts.\n",
    "\n",
    "Interconnect's services\n",
    "\n",
    "Interconnect mainly provides two types of services: Landline communication. The telephone can be connected to several lines simultaneously. Internet. The network can be set up via a telephone line (DSL, digital subscriber line) or through a fiber optic cable.\n",
    "\n",
    "Some other services the company provides include: Internet security: antivirus software (DeviceProtection) and a malicious website blocker (OnlineSecurity) A dedicated technical support line (TechSupport) Cloud file storage and data backup (OnlineBackup) TV streaming (StreamingTV) and a movie directory (StreamingMovies) The clients can choose either a monthly payment or sign a 1- or 2-year contract. They can use various payment methods and receive an electronic invoice after a transaction."
   ]
  },
  {
   "cell_type": "code",
   "execution_count": 1,
   "metadata": {},
   "outputs": [],
   "source": [
    "import pandas as pd\n",
    "import numpy as np\n",
    "from sklearn.model_selection import train_test_split, GridSearchCV, RandomizedSearchCV\n",
    "from sklearn.preprocessing import StandardScaler\n",
    "from sklearn.linear_model import LogisticRegression\n",
    "from sklearn.ensemble import RandomForestClassifier\n",
    "from xgboost import XGBClassifier\n",
    "from sklearn.metrics import roc_auc_score, accuracy_score\n",
    "from catboost import CatBoostClassifier\n",
    "from scipy.stats import uniform, randint"
   ]
  },
  {
   "cell_type": "code",
   "execution_count": 2,
   "metadata": {},
   "outputs": [],
   "source": [
    "#Load Data\n",
    "contract = pd.read_csv('/datasets/final_provider/contract.csv')\n",
    "personal = pd.read_csv('/datasets/final_provider/personal.csv')\n",
    "internet = pd.read_csv('/datasets/final_provider/internet.csv')\n",
    "phone = pd.read_csv('/datasets/final_provider/phone.csv')"
   ]
  },
  {
   "cell_type": "code",
   "execution_count": 3,
   "metadata": {},
   "outputs": [],
   "source": [
    "#Merge data into df\n",
    "df = contract.merge(personal, on='customerID', how='outer') \\\n",
    "             .merge(internet, on='customerID', how='outer') \\\n",
    "             .merge(phone, on='customerID', how='outer')"
   ]
  },
  {
   "cell_type": "code",
   "execution_count": 4,
   "metadata": {},
   "outputs": [],
   "source": [
    "df['Churn'] = df['EndDate'].apply(lambda x: 1 if x != 'No' else 0)"
   ]
  },
  {
   "cell_type": "code",
   "execution_count": 5,
   "metadata": {},
   "outputs": [
    {
     "name": "stdout",
     "output_type": "stream",
     "text": [
      "<class 'pandas.core.frame.DataFrame'>\n",
      "Int64Index: 7043 entries, 0 to 7042\n",
      "Data columns (total 21 columns):\n",
      " #   Column            Non-Null Count  Dtype  \n",
      "---  ------            --------------  -----  \n",
      " 0   customerID        7043 non-null   object \n",
      " 1   BeginDate         7043 non-null   object \n",
      " 2   EndDate           7043 non-null   object \n",
      " 3   Type              7043 non-null   object \n",
      " 4   PaperlessBilling  7043 non-null   object \n",
      " 5   PaymentMethod     7043 non-null   object \n",
      " 6   MonthlyCharges    7043 non-null   float64\n",
      " 7   TotalCharges      7043 non-null   object \n",
      " 8   gender            7043 non-null   object \n",
      " 9   SeniorCitizen     7043 non-null   int64  \n",
      " 10  Partner           7043 non-null   object \n",
      " 11  Dependents        7043 non-null   object \n",
      " 12  InternetService   5517 non-null   object \n",
      " 13  OnlineSecurity    5517 non-null   object \n",
      " 14  OnlineBackup      5517 non-null   object \n",
      " 15  DeviceProtection  5517 non-null   object \n",
      " 16  TechSupport       5517 non-null   object \n",
      " 17  StreamingTV       5517 non-null   object \n",
      " 18  StreamingMovies   5517 non-null   object \n",
      " 19  MultipleLines     6361 non-null   object \n",
      " 20  Churn             7043 non-null   int64  \n",
      "dtypes: float64(1), int64(2), object(18)\n",
      "memory usage: 1.2+ MB\n",
      "None\n"
     ]
    }
   ],
   "source": [
    "# Quick check for missing values and data types\n",
    "print(df.info())"
   ]
  },
  {
   "cell_type": "code",
   "execution_count": 6,
   "metadata": {},
   "outputs": [
    {
     "data": {
      "text/html": [
       "<div>\n",
       "<style scoped>\n",
       "    .dataframe tbody tr th:only-of-type {\n",
       "        vertical-align: middle;\n",
       "    }\n",
       "\n",
       "    .dataframe tbody tr th {\n",
       "        vertical-align: top;\n",
       "    }\n",
       "\n",
       "    .dataframe thead th {\n",
       "        text-align: right;\n",
       "    }\n",
       "</style>\n",
       "<table border=\"1\" class=\"dataframe\">\n",
       "  <thead>\n",
       "    <tr style=\"text-align: right;\">\n",
       "      <th></th>\n",
       "      <th>customerID</th>\n",
       "      <th>BeginDate</th>\n",
       "      <th>EndDate</th>\n",
       "      <th>Type</th>\n",
       "      <th>PaperlessBilling</th>\n",
       "      <th>PaymentMethod</th>\n",
       "      <th>MonthlyCharges</th>\n",
       "      <th>TotalCharges</th>\n",
       "      <th>gender</th>\n",
       "      <th>SeniorCitizen</th>\n",
       "      <th>...</th>\n",
       "      <th>Dependents</th>\n",
       "      <th>InternetService</th>\n",
       "      <th>OnlineSecurity</th>\n",
       "      <th>OnlineBackup</th>\n",
       "      <th>DeviceProtection</th>\n",
       "      <th>TechSupport</th>\n",
       "      <th>StreamingTV</th>\n",
       "      <th>StreamingMovies</th>\n",
       "      <th>MultipleLines</th>\n",
       "      <th>Churn</th>\n",
       "    </tr>\n",
       "  </thead>\n",
       "  <tbody>\n",
       "    <tr>\n",
       "      <th>0</th>\n",
       "      <td>7590-VHVEG</td>\n",
       "      <td>2020-01-01</td>\n",
       "      <td>No</td>\n",
       "      <td>Month-to-month</td>\n",
       "      <td>Yes</td>\n",
       "      <td>Electronic check</td>\n",
       "      <td>29.85</td>\n",
       "      <td>29.85</td>\n",
       "      <td>Female</td>\n",
       "      <td>0</td>\n",
       "      <td>...</td>\n",
       "      <td>No</td>\n",
       "      <td>DSL</td>\n",
       "      <td>No</td>\n",
       "      <td>Yes</td>\n",
       "      <td>No</td>\n",
       "      <td>No</td>\n",
       "      <td>No</td>\n",
       "      <td>No</td>\n",
       "      <td>NaN</td>\n",
       "      <td>0</td>\n",
       "    </tr>\n",
       "    <tr>\n",
       "      <th>1</th>\n",
       "      <td>5575-GNVDE</td>\n",
       "      <td>2017-04-01</td>\n",
       "      <td>No</td>\n",
       "      <td>One year</td>\n",
       "      <td>No</td>\n",
       "      <td>Mailed check</td>\n",
       "      <td>56.95</td>\n",
       "      <td>1889.5</td>\n",
       "      <td>Male</td>\n",
       "      <td>0</td>\n",
       "      <td>...</td>\n",
       "      <td>No</td>\n",
       "      <td>DSL</td>\n",
       "      <td>Yes</td>\n",
       "      <td>No</td>\n",
       "      <td>Yes</td>\n",
       "      <td>No</td>\n",
       "      <td>No</td>\n",
       "      <td>No</td>\n",
       "      <td>No</td>\n",
       "      <td>0</td>\n",
       "    </tr>\n",
       "    <tr>\n",
       "      <th>2</th>\n",
       "      <td>3668-QPYBK</td>\n",
       "      <td>2019-10-01</td>\n",
       "      <td>2019-12-01 00:00:00</td>\n",
       "      <td>Month-to-month</td>\n",
       "      <td>Yes</td>\n",
       "      <td>Mailed check</td>\n",
       "      <td>53.85</td>\n",
       "      <td>108.15</td>\n",
       "      <td>Male</td>\n",
       "      <td>0</td>\n",
       "      <td>...</td>\n",
       "      <td>No</td>\n",
       "      <td>DSL</td>\n",
       "      <td>Yes</td>\n",
       "      <td>Yes</td>\n",
       "      <td>No</td>\n",
       "      <td>No</td>\n",
       "      <td>No</td>\n",
       "      <td>No</td>\n",
       "      <td>No</td>\n",
       "      <td>1</td>\n",
       "    </tr>\n",
       "    <tr>\n",
       "      <th>3</th>\n",
       "      <td>7795-CFOCW</td>\n",
       "      <td>2016-05-01</td>\n",
       "      <td>No</td>\n",
       "      <td>One year</td>\n",
       "      <td>No</td>\n",
       "      <td>Bank transfer (automatic)</td>\n",
       "      <td>42.30</td>\n",
       "      <td>1840.75</td>\n",
       "      <td>Male</td>\n",
       "      <td>0</td>\n",
       "      <td>...</td>\n",
       "      <td>No</td>\n",
       "      <td>DSL</td>\n",
       "      <td>Yes</td>\n",
       "      <td>No</td>\n",
       "      <td>Yes</td>\n",
       "      <td>Yes</td>\n",
       "      <td>No</td>\n",
       "      <td>No</td>\n",
       "      <td>NaN</td>\n",
       "      <td>0</td>\n",
       "    </tr>\n",
       "    <tr>\n",
       "      <th>4</th>\n",
       "      <td>9237-HQITU</td>\n",
       "      <td>2019-09-01</td>\n",
       "      <td>2019-11-01 00:00:00</td>\n",
       "      <td>Month-to-month</td>\n",
       "      <td>Yes</td>\n",
       "      <td>Electronic check</td>\n",
       "      <td>70.70</td>\n",
       "      <td>151.65</td>\n",
       "      <td>Female</td>\n",
       "      <td>0</td>\n",
       "      <td>...</td>\n",
       "      <td>No</td>\n",
       "      <td>Fiber optic</td>\n",
       "      <td>No</td>\n",
       "      <td>No</td>\n",
       "      <td>No</td>\n",
       "      <td>No</td>\n",
       "      <td>No</td>\n",
       "      <td>No</td>\n",
       "      <td>No</td>\n",
       "      <td>1</td>\n",
       "    </tr>\n",
       "  </tbody>\n",
       "</table>\n",
       "<p>5 rows × 21 columns</p>\n",
       "</div>"
      ],
      "text/plain": [
       "   customerID   BeginDate              EndDate            Type  \\\n",
       "0  7590-VHVEG  2020-01-01                   No  Month-to-month   \n",
       "1  5575-GNVDE  2017-04-01                   No        One year   \n",
       "2  3668-QPYBK  2019-10-01  2019-12-01 00:00:00  Month-to-month   \n",
       "3  7795-CFOCW  2016-05-01                   No        One year   \n",
       "4  9237-HQITU  2019-09-01  2019-11-01 00:00:00  Month-to-month   \n",
       "\n",
       "  PaperlessBilling              PaymentMethod  MonthlyCharges TotalCharges  \\\n",
       "0              Yes           Electronic check           29.85        29.85   \n",
       "1               No               Mailed check           56.95       1889.5   \n",
       "2              Yes               Mailed check           53.85       108.15   \n",
       "3               No  Bank transfer (automatic)           42.30      1840.75   \n",
       "4              Yes           Electronic check           70.70       151.65   \n",
       "\n",
       "   gender  SeniorCitizen  ... Dependents InternetService OnlineSecurity  \\\n",
       "0  Female              0  ...         No             DSL             No   \n",
       "1    Male              0  ...         No             DSL            Yes   \n",
       "2    Male              0  ...         No             DSL            Yes   \n",
       "3    Male              0  ...         No             DSL            Yes   \n",
       "4  Female              0  ...         No     Fiber optic             No   \n",
       "\n",
       "  OnlineBackup DeviceProtection TechSupport StreamingTV StreamingMovies  \\\n",
       "0          Yes               No          No          No              No   \n",
       "1           No              Yes          No          No              No   \n",
       "2          Yes               No          No          No              No   \n",
       "3           No              Yes         Yes          No              No   \n",
       "4           No               No          No          No              No   \n",
       "\n",
       "  MultipleLines Churn  \n",
       "0           NaN     0  \n",
       "1            No     0  \n",
       "2            No     1  \n",
       "3           NaN     0  \n",
       "4            No     1  \n",
       "\n",
       "[5 rows x 21 columns]"
      ]
     },
     "execution_count": 6,
     "metadata": {},
     "output_type": "execute_result"
    }
   ],
   "source": [
    "# Preview the first few rows of the merged dataset\n",
    "df.head()"
   ]
  },
  {
   "cell_type": "code",
   "execution_count": 7,
   "metadata": {},
   "outputs": [
    {
     "data": {
      "text/plain": [
       "0"
      ]
     },
     "execution_count": 7,
     "metadata": {},
     "output_type": "execute_result"
    }
   ],
   "source": [
    "df.duplicated().sum()"
   ]
  },
  {
   "cell_type": "code",
   "execution_count": 8,
   "metadata": {},
   "outputs": [
    {
     "data": {
      "text/plain": [
       "customerID             0\n",
       "BeginDate              0\n",
       "EndDate                0\n",
       "Type                   0\n",
       "PaperlessBilling       0\n",
       "PaymentMethod          0\n",
       "MonthlyCharges         0\n",
       "TotalCharges           0\n",
       "gender                 0\n",
       "SeniorCitizen          0\n",
       "Partner                0\n",
       "Dependents             0\n",
       "InternetService     1526\n",
       "OnlineSecurity      1526\n",
       "OnlineBackup        1526\n",
       "DeviceProtection    1526\n",
       "TechSupport         1526\n",
       "StreamingTV         1526\n",
       "StreamingMovies     1526\n",
       "MultipleLines        682\n",
       "Churn                  0\n",
       "dtype: int64"
      ]
     },
     "execution_count": 8,
     "metadata": {},
     "output_type": "execute_result"
    }
   ],
   "source": [
    "df.isnull().sum()"
   ]
  },
  {
   "cell_type": "code",
   "execution_count": 9,
   "metadata": {},
   "outputs": [],
   "source": [
    "# Filling missing values in internet-related columns with 'No'\n",
    "internet_columns = ['InternetService', 'OnlineSecurity', 'OnlineBackup', 'DeviceProtection', \n",
    "                    'TechSupport', 'StreamingTV', 'StreamingMovies']\n",
    "df[internet_columns] = df[internet_columns].fillna('No')"
   ]
  },
  {
   "cell_type": "code",
   "execution_count": 10,
   "metadata": {},
   "outputs": [],
   "source": [
    "# Fill missing values in 'MultipleLines' with 'No'\n",
    "df['MultipleLines'] = df['MultipleLines'].fillna('No')"
   ]
  },
  {
   "cell_type": "code",
   "execution_count": 11,
   "metadata": {},
   "outputs": [
    {
     "data": {
      "text/plain": [
       "customerID          0\n",
       "BeginDate           0\n",
       "EndDate             0\n",
       "Type                0\n",
       "PaperlessBilling    0\n",
       "PaymentMethod       0\n",
       "MonthlyCharges      0\n",
       "TotalCharges        0\n",
       "gender              0\n",
       "SeniorCitizen       0\n",
       "Partner             0\n",
       "Dependents          0\n",
       "InternetService     0\n",
       "OnlineSecurity      0\n",
       "OnlineBackup        0\n",
       "DeviceProtection    0\n",
       "TechSupport         0\n",
       "StreamingTV         0\n",
       "StreamingMovies     0\n",
       "MultipleLines       0\n",
       "Churn               0\n",
       "dtype: int64"
      ]
     },
     "execution_count": 11,
     "metadata": {},
     "output_type": "execute_result"
    }
   ],
   "source": [
    "# Recheck for missing values\n",
    "df.isnull().sum()"
   ]
  },
  {
   "cell_type": "code",
   "execution_count": null,
   "metadata": {},
   "outputs": [],
   "source": []
  },
  {
   "cell_type": "markdown",
   "metadata": {},
   "source": [
    "# EDA"
   ]
  },
  {
   "cell_type": "code",
   "execution_count": 12,
   "metadata": {},
   "outputs": [
    {
     "data": {
      "image/png": "[encoded data removed]",
      "text/plain": [
       "<Figure size 640x480 with 1 Axes>"
      ]
     },
     "metadata": {},
     "output_type": "display_data"
    },
    {
     "data": {
      "text/html": [
       "<div>\n",
       "<style scoped>\n",
       "    .dataframe tbody tr th:only-of-type {\n",
       "        vertical-align: middle;\n",
       "    }\n",
       "\n",
       "    .dataframe tbody tr th {\n",
       "        vertical-align: top;\n",
       "    }\n",
       "\n",
       "    .dataframe thead th {\n",
       "        text-align: right;\n",
       "    }\n",
       "</style>\n",
       "<table border=\"1\" class=\"dataframe\">\n",
       "  <thead>\n",
       "    <tr style=\"text-align: right;\">\n",
       "      <th></th>\n",
       "      <th>MonthlyCharges</th>\n",
       "      <th>SeniorCitizen</th>\n",
       "      <th>Churn</th>\n",
       "    </tr>\n",
       "  </thead>\n",
       "  <tbody>\n",
       "    <tr>\n",
       "      <th>count</th>\n",
       "      <td>7043.000000</td>\n",
       "      <td>7043.000000</td>\n",
       "      <td>7043.000000</td>\n",
       "    </tr>\n",
       "    <tr>\n",
       "      <th>mean</th>\n",
       "      <td>64.761692</td>\n",
       "      <td>0.162147</td>\n",
       "      <td>0.265370</td>\n",
       "    </tr>\n",
       "    <tr>\n",
       "      <th>std</th>\n",
       "      <td>30.090047</td>\n",
       "      <td>0.368612</td>\n",
       "      <td>0.441561</td>\n",
       "    </tr>\n",
       "    <tr>\n",
       "      <th>min</th>\n",
       "      <td>18.250000</td>\n",
       "      <td>0.000000</td>\n",
       "      <td>0.000000</td>\n",
       "    </tr>\n",
       "    <tr>\n",
       "      <th>25%</th>\n",
       "      <td>35.500000</td>\n",
       "      <td>0.000000</td>\n",
       "      <td>0.000000</td>\n",
       "    </tr>\n",
       "    <tr>\n",
       "      <th>50%</th>\n",
       "      <td>70.350000</td>\n",
       "      <td>0.000000</td>\n",
       "      <td>0.000000</td>\n",
       "    </tr>\n",
       "    <tr>\n",
       "      <th>75%</th>\n",
       "      <td>89.850000</td>\n",
       "      <td>0.000000</td>\n",
       "      <td>1.000000</td>\n",
       "    </tr>\n",
       "    <tr>\n",
       "      <th>max</th>\n",
       "      <td>118.750000</td>\n",
       "      <td>1.000000</td>\n",
       "      <td>1.000000</td>\n",
       "    </tr>\n",
       "  </tbody>\n",
       "</table>\n",
       "</div>"
      ],
      "text/plain": [
       "       MonthlyCharges  SeniorCitizen        Churn\n",
       "count     7043.000000    7043.000000  7043.000000\n",
       "mean        64.761692       0.162147     0.265370\n",
       "std         30.090047       0.368612     0.441561\n",
       "min         18.250000       0.000000     0.000000\n",
       "25%         35.500000       0.000000     0.000000\n",
       "50%         70.350000       0.000000     0.000000\n",
       "75%         89.850000       0.000000     1.000000\n",
       "max        118.750000       1.000000     1.000000"
      ]
     },
     "execution_count": 12,
     "metadata": {},
     "output_type": "execute_result"
    }
   ],
   "source": [
    "import seaborn as sns\n",
    "import matplotlib.pyplot as plt\n",
    "\n",
    "# Distribution of target variable (churn)\n",
    "sns.countplot(x='EndDate', data=df)\n",
    "plt.title('Distribution of EndDate (Churn vs Non-Churn)')\n",
    "plt.show()\n",
    "\n",
    "# Checking numerical features\n",
    "df.describe()"
   ]
  },
  {
   "cell_type": "markdown",
   "metadata": {},
   "source": [
    "The bar chart shows the distribution of the EndDate column, where most customers have \"No\" as their EndDate, indicating that they haven't churned. A smaller portion of the clients has specific EndDate values, representing those who have churned. This suggests class imbalance, with a large majority of customers not having churned compared to a smaller subset of churned customers. You might need to address this imbalance when training your model, possibly through techniques like oversampling the minority class or using algorithms that handle imbalance well (e.g., XGBoost)."
   ]
  },
  {
   "cell_type": "code",
   "execution_count": 13,
   "metadata": {},
   "outputs": [
    {
     "data": {
      "image/png": "[encoded data removed]",
      "text/plain": [
       "<Figure size 800x600 with 2 Axes>"
      ]
     },
     "metadata": {},
     "output_type": "display_data"
    }
   ],
   "source": [
    "# Correlation matrix to check relationships between numerical variables\n",
    "plt.figure(figsize=(8, 6))\n",
    "sns.heatmap(df.corr(), annot=True, cmap='coolwarm')\n",
    "plt.title('Correlation Matrix of Numerical Features')\n",
    "plt.show()"
   ]
  },
  {
   "cell_type": "markdown",
   "metadata": {},
   "source": [
    "The heatmap displays correlations between MonthlyCharges, SeniorCitizen, and churn. The correlation values between churn and the other variables (MonthlyCharges and SeniorCitizen) seem to be relatively low (0.19 for MonthlyCharges and 0.15 for SeniorCitizen), which indicates a weak linear relationship between these variables and customer churn. It’s worth noting that weak correlations in a linear sense don't necessarily mean that these features are unimportant for churn prediction. Non-linear models like decision trees may still uncover important patterns."
   ]
  },
  {
   "cell_type": "code",
   "execution_count": 14,
   "metadata": {},
   "outputs": [
    {
     "data": {
      "text/html": [
       "<div>\n",
       "<style scoped>\n",
       "    .dataframe tbody tr th:only-of-type {\n",
       "        vertical-align: middle;\n",
       "    }\n",
       "\n",
       "    .dataframe tbody tr th {\n",
       "        vertical-align: top;\n",
       "    }\n",
       "\n",
       "    .dataframe thead th {\n",
       "        text-align: right;\n",
       "    }\n",
       "</style>\n",
       "<table border=\"1\" class=\"dataframe\">\n",
       "  <thead>\n",
       "    <tr style=\"text-align: right;\">\n",
       "      <th></th>\n",
       "      <th>MonthlyCharges</th>\n",
       "      <th>SeniorCitizen</th>\n",
       "      <th>Churn</th>\n",
       "      <th>BeginDate_2013-11-01</th>\n",
       "      <th>BeginDate_2013-12-01</th>\n",
       "      <th>BeginDate_2014-01-01</th>\n",
       "      <th>BeginDate_2014-02-01</th>\n",
       "      <th>BeginDate_2014-03-01</th>\n",
       "      <th>BeginDate_2014-04-01</th>\n",
       "      <th>BeginDate_2014-05-01</th>\n",
       "      <th>...</th>\n",
       "      <th>Dependents_Yes</th>\n",
       "      <th>InternetService_Fiber optic</th>\n",
       "      <th>InternetService_No</th>\n",
       "      <th>OnlineSecurity_Yes</th>\n",
       "      <th>OnlineBackup_Yes</th>\n",
       "      <th>DeviceProtection_Yes</th>\n",
       "      <th>TechSupport_Yes</th>\n",
       "      <th>StreamingTV_Yes</th>\n",
       "      <th>StreamingMovies_Yes</th>\n",
       "      <th>MultipleLines_Yes</th>\n",
       "    </tr>\n",
       "  </thead>\n",
       "  <tbody>\n",
       "    <tr>\n",
       "      <th>0</th>\n",
       "      <td>29.85</td>\n",
       "      <td>0</td>\n",
       "      <td>0</td>\n",
       "      <td>0</td>\n",
       "      <td>0</td>\n",
       "      <td>0</td>\n",
       "      <td>0</td>\n",
       "      <td>0</td>\n",
       "      <td>0</td>\n",
       "      <td>0</td>\n",
       "      <td>...</td>\n",
       "      <td>0</td>\n",
       "      <td>0</td>\n",
       "      <td>0</td>\n",
       "      <td>0</td>\n",
       "      <td>1</td>\n",
       "      <td>0</td>\n",
       "      <td>0</td>\n",
       "      <td>0</td>\n",
       "      <td>0</td>\n",
       "      <td>0</td>\n",
       "    </tr>\n",
       "    <tr>\n",
       "      <th>1</th>\n",
       "      <td>56.95</td>\n",
       "      <td>0</td>\n",
       "      <td>0</td>\n",
       "      <td>0</td>\n",
       "      <td>0</td>\n",
       "      <td>0</td>\n",
       "      <td>0</td>\n",
       "      <td>0</td>\n",
       "      <td>0</td>\n",
       "      <td>0</td>\n",
       "      <td>...</td>\n",
       "      <td>0</td>\n",
       "      <td>0</td>\n",
       "      <td>0</td>\n",
       "      <td>1</td>\n",
       "      <td>0</td>\n",
       "      <td>1</td>\n",
       "      <td>0</td>\n",
       "      <td>0</td>\n",
       "      <td>0</td>\n",
       "      <td>0</td>\n",
       "    </tr>\n",
       "    <tr>\n",
       "      <th>2</th>\n",
       "      <td>53.85</td>\n",
       "      <td>0</td>\n",
       "      <td>1</td>\n",
       "      <td>0</td>\n",
       "      <td>0</td>\n",
       "      <td>0</td>\n",
       "      <td>0</td>\n",
       "      <td>0</td>\n",
       "      <td>0</td>\n",
       "      <td>0</td>\n",
       "      <td>...</td>\n",
       "      <td>0</td>\n",
       "      <td>0</td>\n",
       "      <td>0</td>\n",
       "      <td>1</td>\n",
       "      <td>1</td>\n",
       "      <td>0</td>\n",
       "      <td>0</td>\n",
       "      <td>0</td>\n",
       "      <td>0</td>\n",
       "      <td>0</td>\n",
       "    </tr>\n",
       "    <tr>\n",
       "      <th>3</th>\n",
       "      <td>42.30</td>\n",
       "      <td>0</td>\n",
       "      <td>0</td>\n",
       "      <td>0</td>\n",
       "      <td>0</td>\n",
       "      <td>0</td>\n",
       "      <td>0</td>\n",
       "      <td>0</td>\n",
       "      <td>0</td>\n",
       "      <td>0</td>\n",
       "      <td>...</td>\n",
       "      <td>0</td>\n",
       "      <td>0</td>\n",
       "      <td>0</td>\n",
       "      <td>1</td>\n",
       "      <td>0</td>\n",
       "      <td>1</td>\n",
       "      <td>1</td>\n",
       "      <td>0</td>\n",
       "      <td>0</td>\n",
       "      <td>0</td>\n",
       "    </tr>\n",
       "    <tr>\n",
       "      <th>4</th>\n",
       "      <td>70.70</td>\n",
       "      <td>0</td>\n",
       "      <td>1</td>\n",
       "      <td>0</td>\n",
       "      <td>0</td>\n",
       "      <td>0</td>\n",
       "      <td>0</td>\n",
       "      <td>0</td>\n",
       "      <td>0</td>\n",
       "      <td>0</td>\n",
       "      <td>...</td>\n",
       "      <td>0</td>\n",
       "      <td>1</td>\n",
       "      <td>0</td>\n",
       "      <td>0</td>\n",
       "      <td>0</td>\n",
       "      <td>0</td>\n",
       "      <td>0</td>\n",
       "      <td>0</td>\n",
       "      <td>0</td>\n",
       "      <td>0</td>\n",
       "    </tr>\n",
       "  </tbody>\n",
       "</table>\n",
       "<p>5 rows × 6627 columns</p>\n",
       "</div>"
      ],
      "text/plain": [
       "   MonthlyCharges  SeniorCitizen  Churn  BeginDate_2013-11-01  \\\n",
       "0           29.85              0      0                     0   \n",
       "1           56.95              0      0                     0   \n",
       "2           53.85              0      1                     0   \n",
       "3           42.30              0      0                     0   \n",
       "4           70.70              0      1                     0   \n",
       "\n",
       "   BeginDate_2013-12-01  BeginDate_2014-01-01  BeginDate_2014-02-01  \\\n",
       "0                     0                     0                     0   \n",
       "1                     0                     0                     0   \n",
       "2                     0                     0                     0   \n",
       "3                     0                     0                     0   \n",
       "4                     0                     0                     0   \n",
       "\n",
       "   BeginDate_2014-03-01  BeginDate_2014-04-01  BeginDate_2014-05-01  ...  \\\n",
       "0                     0                     0                     0  ...   \n",
       "1                     0                     0                     0  ...   \n",
       "2                     0                     0                     0  ...   \n",
       "3                     0                     0                     0  ...   \n",
       "4                     0                     0                     0  ...   \n",
       "\n",
       "   Dependents_Yes  InternetService_Fiber optic  InternetService_No  \\\n",
       "0               0                            0                   0   \n",
       "1               0                            0                   0   \n",
       "2               0                            0                   0   \n",
       "3               0                            0                   0   \n",
       "4               0                            1                   0   \n",
       "\n",
       "   OnlineSecurity_Yes  OnlineBackup_Yes  DeviceProtection_Yes  \\\n",
       "0                   0                 1                     0   \n",
       "1                   1                 0                     1   \n",
       "2                   1                 1                     0   \n",
       "3                   1                 0                     1   \n",
       "4                   0                 0                     0   \n",
       "\n",
       "   TechSupport_Yes  StreamingTV_Yes  StreamingMovies_Yes  MultipleLines_Yes  \n",
       "0                0                0                    0                  0  \n",
       "1                0                0                    0                  0  \n",
       "2                0                0                    0                  0  \n",
       "3                1                0                    0                  0  \n",
       "4                0                0                    0                  0  \n",
       "\n",
       "[5 rows x 6627 columns]"
      ]
     },
     "execution_count": 14,
     "metadata": {},
     "output_type": "execute_result"
    }
   ],
   "source": [
    "# Converting 'EndDate' to binary target variable (1 for churn, 0 for no churn)\n",
    "df['Churn'] = df['EndDate'].apply(lambda x: 1 if x != 'No' else 0)\n",
    "\n",
    "# One-hot encoding for categorical features\n",
    "df_encoded = pd.get_dummies(df.drop(columns=['customerID', 'EndDate']), drop_first=True)\n",
    "\n",
    "# Checking the new columns after encoding\n",
    "df_encoded.head()"
   ]
  },
  {
   "cell_type": "code",
   "execution_count": null,
   "metadata": {},
   "outputs": [],
   "source": []
  },
  {
   "cell_type": "markdown",
   "metadata": {},
   "source": [
    "# Rough Plan for Solving the Task"
   ]
  },
  {
   "cell_type": "markdown",
   "metadata": {},
   "source": [
    "Step 1: Data Preprocessing(completed)\n",
    "\n",
    "Loading and merging the datasets using customerID. Handled missing values and prepare the EndDate column to form the target variable for churn prediction. This ensures the dataset is clean and ready for analysis.\n",
    "\n",
    "Step 2: Exploratory Data Analysis (EDA)(completed)\n",
    "\n",
    "Visualized key trends, including the distribution of the target variable and correlation between features. This helps us understand relationships between features and the churn behavior.\n",
    "\n",
    "Step 3: Feature Engineering(completed)\n",
    "\n",
    "Converted categorical variables into numerical formats through one-hot encoding, and transform EndDate into a binary churn variable. This step is crucial for preparing the dataset for machine learning models.\n",
    "\n",
    "Step 4: Model Training and Testing\n",
    "\n",
    "Train several models (e.g., logistic regression, Random Forest, XGBoost) to predict customer churn. Use AUC-ROC as the primary evaluation metric. Cross-validate models to ensure robustness.\n",
    "\n",
    "Step 5: Model Evaluation and Selection\n",
    "\n",
    "Compare model performances based on AUC-ROC and accuracy. Fine-tune the model that shows the highest performance. This will ensure the most effective model is selected for deployment.\n",
    "\n",
    "Step 6: Conclusion\n",
    "\n",
    "Analyze the results and selection process of the Model evaluation. Write a conclusion based on the overall evaluation and selection with reccomendations."
   ]
  },
  {
   "cell_type": "markdown",
   "metadata": {},
   "source": [
    "# Train/Test Split"
   ]
  },
  {
   "cell_type": "code",
   "execution_count": 15,
   "metadata": {},
   "outputs": [],
   "source": [
    "#Drop Unnecessary Columns\n",
    "df = df.drop(['BeginDate', 'EndDate', 'customerID'], axis=1)"
   ]
  },
  {
   "cell_type": "code",
   "execution_count": 16,
   "metadata": {},
   "outputs": [
    {
     "data": {
      "text/html": [
       "<div>\n",
       "<style scoped>\n",
       "    .dataframe tbody tr th:only-of-type {\n",
       "        vertical-align: middle;\n",
       "    }\n",
       "\n",
       "    .dataframe tbody tr th {\n",
       "        vertical-align: top;\n",
       "    }\n",
       "\n",
       "    .dataframe thead th {\n",
       "        text-align: right;\n",
       "    }\n",
       "</style>\n",
       "<table border=\"1\" class=\"dataframe\">\n",
       "  <thead>\n",
       "    <tr style=\"text-align: right;\">\n",
       "      <th></th>\n",
       "      <th>Type</th>\n",
       "      <th>PaperlessBilling</th>\n",
       "      <th>PaymentMethod</th>\n",
       "      <th>MonthlyCharges</th>\n",
       "      <th>TotalCharges</th>\n",
       "      <th>gender</th>\n",
       "      <th>SeniorCitizen</th>\n",
       "      <th>Partner</th>\n",
       "      <th>Dependents</th>\n",
       "      <th>InternetService</th>\n",
       "      <th>OnlineSecurity</th>\n",
       "      <th>OnlineBackup</th>\n",
       "      <th>DeviceProtection</th>\n",
       "      <th>TechSupport</th>\n",
       "      <th>StreamingTV</th>\n",
       "      <th>StreamingMovies</th>\n",
       "      <th>MultipleLines</th>\n",
       "      <th>Churn</th>\n",
       "    </tr>\n",
       "  </thead>\n",
       "  <tbody>\n",
       "    <tr>\n",
       "      <th>0</th>\n",
       "      <td>Month-to-month</td>\n",
       "      <td>Yes</td>\n",
       "      <td>Electronic check</td>\n",
       "      <td>29.85</td>\n",
       "      <td>29.85</td>\n",
       "      <td>Female</td>\n",
       "      <td>0</td>\n",
       "      <td>Yes</td>\n",
       "      <td>No</td>\n",
       "      <td>DSL</td>\n",
       "      <td>No</td>\n",
       "      <td>Yes</td>\n",
       "      <td>No</td>\n",
       "      <td>No</td>\n",
       "      <td>No</td>\n",
       "      <td>No</td>\n",
       "      <td>No</td>\n",
       "      <td>0</td>\n",
       "    </tr>\n",
       "    <tr>\n",
       "      <th>1</th>\n",
       "      <td>One year</td>\n",
       "      <td>No</td>\n",
       "      <td>Mailed check</td>\n",
       "      <td>56.95</td>\n",
       "      <td>1889.5</td>\n",
       "      <td>Male</td>\n",
       "      <td>0</td>\n",
       "      <td>No</td>\n",
       "      <td>No</td>\n",
       "      <td>DSL</td>\n",
       "      <td>Yes</td>\n",
       "      <td>No</td>\n",
       "      <td>Yes</td>\n",
       "      <td>No</td>\n",
       "      <td>No</td>\n",
       "      <td>No</td>\n",
       "      <td>No</td>\n",
       "      <td>0</td>\n",
       "    </tr>\n",
       "    <tr>\n",
       "      <th>2</th>\n",
       "      <td>Month-to-month</td>\n",
       "      <td>Yes</td>\n",
       "      <td>Mailed check</td>\n",
       "      <td>53.85</td>\n",
       "      <td>108.15</td>\n",
       "      <td>Male</td>\n",
       "      <td>0</td>\n",
       "      <td>No</td>\n",
       "      <td>No</td>\n",
       "      <td>DSL</td>\n",
       "      <td>Yes</td>\n",
       "      <td>Yes</td>\n",
       "      <td>No</td>\n",
       "      <td>No</td>\n",
       "      <td>No</td>\n",
       "      <td>No</td>\n",
       "      <td>No</td>\n",
       "      <td>1</td>\n",
       "    </tr>\n",
       "    <tr>\n",
       "      <th>3</th>\n",
       "      <td>One year</td>\n",
       "      <td>No</td>\n",
       "      <td>Bank transfer (automatic)</td>\n",
       "      <td>42.30</td>\n",
       "      <td>1840.75</td>\n",
       "      <td>Male</td>\n",
       "      <td>0</td>\n",
       "      <td>No</td>\n",
       "      <td>No</td>\n",
       "      <td>DSL</td>\n",
       "      <td>Yes</td>\n",
       "      <td>No</td>\n",
       "      <td>Yes</td>\n",
       "      <td>Yes</td>\n",
       "      <td>No</td>\n",
       "      <td>No</td>\n",
       "      <td>No</td>\n",
       "      <td>0</td>\n",
       "    </tr>\n",
       "    <tr>\n",
       "      <th>4</th>\n",
       "      <td>Month-to-month</td>\n",
       "      <td>Yes</td>\n",
       "      <td>Electronic check</td>\n",
       "      <td>70.70</td>\n",
       "      <td>151.65</td>\n",
       "      <td>Female</td>\n",
       "      <td>0</td>\n",
       "      <td>No</td>\n",
       "      <td>No</td>\n",
       "      <td>Fiber optic</td>\n",
       "      <td>No</td>\n",
       "      <td>No</td>\n",
       "      <td>No</td>\n",
       "      <td>No</td>\n",
       "      <td>No</td>\n",
       "      <td>No</td>\n",
       "      <td>No</td>\n",
       "      <td>1</td>\n",
       "    </tr>\n",
       "  </tbody>\n",
       "</table>\n",
       "</div>"
      ],
      "text/plain": [
       "             Type PaperlessBilling              PaymentMethod  MonthlyCharges  \\\n",
       "0  Month-to-month              Yes           Electronic check           29.85   \n",
       "1        One year               No               Mailed check           56.95   \n",
       "2  Month-to-month              Yes               Mailed check           53.85   \n",
       "3        One year               No  Bank transfer (automatic)           42.30   \n",
       "4  Month-to-month              Yes           Electronic check           70.70   \n",
       "\n",
       "  TotalCharges  gender  SeniorCitizen Partner Dependents InternetService  \\\n",
       "0        29.85  Female              0     Yes         No             DSL   \n",
       "1       1889.5    Male              0      No         No             DSL   \n",
       "2       108.15    Male              0      No         No             DSL   \n",
       "3      1840.75    Male              0      No         No             DSL   \n",
       "4       151.65  Female              0      No         No     Fiber optic   \n",
       "\n",
       "  OnlineSecurity OnlineBackup DeviceProtection TechSupport StreamingTV  \\\n",
       "0             No          Yes               No          No          No   \n",
       "1            Yes           No              Yes          No          No   \n",
       "2            Yes          Yes               No          No          No   \n",
       "3            Yes           No              Yes         Yes          No   \n",
       "4             No           No               No          No          No   \n",
       "\n",
       "  StreamingMovies MultipleLines  Churn  \n",
       "0              No            No      0  \n",
       "1              No            No      0  \n",
       "2              No            No      1  \n",
       "3              No            No      0  \n",
       "4              No            No      1  "
      ]
     },
     "execution_count": 16,
     "metadata": {},
     "output_type": "execute_result"
    }
   ],
   "source": [
    "df.head()"
   ]
  },
  {
   "cell_type": "code",
   "execution_count": 17,
   "metadata": {},
   "outputs": [],
   "source": [
    "df = pd.get_dummies(df, drop_first=True)"
   ]
  },
  {
   "cell_type": "code",
   "execution_count": 18,
   "metadata": {},
   "outputs": [],
   "source": [
    "X = df.drop('Churn', axis=1)\n",
    "y = df['Churn']\n",
    "X_train, X_test, y_train, y_test = train_test_split(X, y, test_size=0.3, stratify=y, random_state=42)"
   ]
  },
  {
   "cell_type": "code",
   "execution_count": 19,
   "metadata": {},
   "outputs": [],
   "source": [
    "#Scaling Features\n",
    "scaler = StandardScaler()\n",
    "X_train_scaled = scaler.fit_transform(X_train)\n",
    "X_test_scaled = scaler.transform(X_test)"
   ]
  },
  {
   "cell_type": "code",
   "execution_count": 20,
   "metadata": {},
   "outputs": [],
   "source": [
    "#Logistic Regression\n",
    "logreg = LogisticRegression(class_weight='balanced', random_state=42, max_iter=1000)\n",
    "logreg.fit(X_train_scaled, y_train)\n",
    "\n",
    "y_pred_logreg = logreg.predict(X_test_scaled)\n",
    "auc_roc_logreg = roc_auc_score(y_test, y_pred_logreg)\n",
    "accuracy_logreg = accuracy_score(y_test, y_pred_logreg)"
   ]
  },
  {
   "cell_type": "code",
   "execution_count": 21,
   "metadata": {},
   "outputs": [],
   "source": [
    "#Random Forest with Class Weights\n",
    "rf = RandomForestClassifier(class_weight='balanced', random_state=42)\n",
    "rf.fit(X_train_scaled, y_train)\n",
    "\n",
    "y_pred_rf = rf.predict(X_test_scaled)\n",
    "auc_roc_rf = roc_auc_score(y_test, y_pred_rf)\n",
    "accuracy_rf = accuracy_score(y_test, y_pred_rf)"
   ]
  },
  {
   "cell_type": "code",
   "execution_count": 22,
   "metadata": {},
   "outputs": [],
   "source": [
    "#XGBoost\n",
    "xgb = XGBClassifier(scale_pos_weight=len(y_train[y_train == 0]) / len(y_train[y_train == 1]),\n",
    "                    use_label_encoder=False, eval_metric='auc', random_state=42)\n",
    "xgb.fit(X_train, y_train)\n",
    "\n",
    "y_pred_xgb = xgb.predict(X_test)\n",
    "auc_roc_xgb = roc_auc_score(y_test, y_pred_xgb)\n",
    "accuracy_xgb = accuracy_score(y_test, y_pred_xgb)"
   ]
  },
  {
   "cell_type": "code",
   "execution_count": 23,
   "metadata": {},
   "outputs": [],
   "source": [
    "#Handling Imbalance with CatBoost\n",
    "catboost = CatBoostClassifier(random_state=42, verbose=0)\n",
    "catboost.fit(X_train, y_train)\n",
    "\n",
    "y_pred_cb = catboost.predict(X_test)\n",
    "auc_roc_cb = roc_auc_score(y_test, y_pred_cb)\n",
    "accuracy_cb = accuracy_score(y_test, y_pred_cb)"
   ]
  },
  {
   "cell_type": "code",
   "execution_count": 24,
   "metadata": {},
   "outputs": [
    {
     "data": {
      "text/plain": [
       "GridSearchCV(cv=5,\n",
       "             estimator=RandomForestClassifier(class_weight='balanced',\n",
       "                                              random_state=42),\n",
       "             n_jobs=-1,\n",
       "             param_grid={'max_depth': [5, 10], 'min_samples_split': [2, 5],\n",
       "                         'n_estimators': [100, 200]},\n",
       "             scoring='roc_auc')"
      ]
     },
     "execution_count": 24,
     "metadata": {},
     "output_type": "execute_result"
    }
   ],
   "source": [
    "#Hyperparameter Tuning with GridSearch\n",
    "param_grid = {\n",
    "    'n_estimators': [100, 200],\n",
    "    'max_depth': [5, 10],\n",
    "    'min_samples_split': [2, 5],\n",
    "}\n",
    "\n",
    "grid_rf = GridSearchCV(rf, param_grid, cv=5, scoring='roc_auc', n_jobs=-1)\n",
    "grid_rf.fit(X_train_scaled, y_train)"
   ]
  },
  {
   "cell_type": "code",
   "execution_count": 25,
   "metadata": {
    "scrolled": true
   },
   "outputs": [
    {
     "name": "stdout",
     "output_type": "stream",
     "text": [
      "Logistic Regression AUC-ROC: 0.6828334895345204, Accuracy: 0.7614765735920492\n",
      "XGBoost AUC-ROC: 0.73812124428028, Accuracy: 0.7482252721249408\n",
      "Random Forest AUC-ROC: 0.6658684326589117, Accuracy: 0.7699952673923331\n",
      "CatBoost AUC-ROC: 0.6729020802322804, Accuracy: 0.7761476573592049\n"
     ]
    }
   ],
   "source": [
    "#Evaluate Models\n",
    "print(f\"Logistic Regression AUC-ROC: {auc_roc_logreg}, Accuracy: {accuracy_logreg}\")\n",
    "print(f\"XGBoost AUC-ROC: {auc_roc_xgb}, Accuracy: {accuracy_xgb}\")\n",
    "print(f\"Random Forest AUC-ROC: {auc_roc_rf}, Accuracy: {accuracy_rf}\")\n",
    "print(f\"CatBoost AUC-ROC: {auc_roc_cb}, Accuracy: {accuracy_cb}\")"
   ]
  },
  {
   "cell_type": "code",
   "execution_count": null,
   "metadata": {},
   "outputs": [],
   "source": []
  },
  {
   "cell_type": "markdown",
   "metadata": {},
   "source": [
    "# Evaluation and Selection"
   ]
  },
  {
   "cell_type": "markdown",
   "metadata": {},
   "source": [
    "The current results show that none of the models achieved an AUC-ROC of 0.85 or higher, which is below the threshold you are aiming for based on the provided assessment criteria. Fine-tuning the hyperparameters is a reasonable next step to improve model performance.\n",
    "\n",
    "Here’s what i am planning to do:\n",
    "\n",
    "1. Hyperparameter Tuning:\n",
    "Fine-tuning the hyperparameters of the models (especially XGBoost and CatBoost) can help boost their performance. I've already seen that tuning can make a significant difference, so running another round of hyperparameter optimization using techniques like RandomizedSearchCV or GridSearchCV would be helpful. if that does not give me substantial results to identify one model, i will procceed wit the next option. \n",
    "\n",
    "2. Handling Class Imbalance:\n",
    "If there is class imbalance in your dataset (i.e., more non-churners than churners), this could be negatively affecting the models' AUC-ROC performance. Here are some strategies to address this:\n",
    "Use class weights: Some models, like Random Forest and Logistic Regression, allow you to assign higher weights to the minority class (churners).\n",
    "Resampling: Try oversampling the minority class or undersampling the majority class using techniques like SMOTE (Synthetic Minority Over-sampling Technique).\n"
   ]
  },
  {
   "cell_type": "code",
   "execution_count": null,
   "metadata": {},
   "outputs": [],
   "source": []
  },
  {
   "cell_type": "markdown",
   "metadata": {},
   "source": [
    "# Fine-Tune Hyperparameters"
   ]
  },
  {
   "cell_type": "markdown",
   "metadata": {},
   "source": [
    "Although all models did not scored high in AUC-ROC, it's important to take additional steps to ensure that the selected model is robust, generalizes well, and is not overfitting to the training data."
   ]
  },
  {
   "cell_type": "code",
   "execution_count": 26,
   "metadata": {},
   "outputs": [
    {
     "name": "stdout",
     "output_type": "stream",
     "text": [
      "Fitting 3 folds for each of 6 candidates, totalling 18 fits\n"
     ]
    },
    {
     "name": "stderr",
     "output_type": "stream",
     "text": [
      "/opt/conda/envs/python3/lib/python3.9/site-packages/sklearn/linear_model/_sag.py:328: ConvergenceWarning: The max_iter was reached which means the coef_ did not converge\n",
      "  warnings.warn(\"The max_iter was reached which means \"\n",
      "/opt/conda/envs/python3/lib/python3.9/site-packages/sklearn/linear_model/_sag.py:328: ConvergenceWarning: The max_iter was reached which means the coef_ did not converge\n",
      "  warnings.warn(\"The max_iter was reached which means \"\n",
      "/opt/conda/envs/python3/lib/python3.9/site-packages/sklearn/linear_model/_sag.py:328: ConvergenceWarning: The max_iter was reached which means the coef_ did not converge\n",
      "  warnings.warn(\"The max_iter was reached which means \"\n"
     ]
    }
   ],
   "source": [
    "#Logistic Regression\n",
    "param_grid_lgr = {\n",
    "    'penalty': ['l2'], \n",
    "    'C': [0.01, 0.1, 1],  \n",
    "    'solver': ['liblinear', 'saga'],  \n",
    "}\n",
    "\n",
    "logreg = LogisticRegression(random_state=42, max_iter=1000)\n",
    "\n",
    "\n",
    "grid_search_lgr = GridSearchCV(\n",
    "    logreg, param_grid=param_grid_lgr,\n",
    "    scoring='roc_auc', cv=3, verbose=1, n_jobs=-1\n",
    ")\n",
    "\n",
    "\n",
    "grid_search_lgr.fit(X_train_scaled, y_train)\n",
    "\n",
    "\n",
    "best_lgr = grid_search_lgr.best_estimator_\n",
    "y_pred_lgr = best_lgr.predict(X_test_scaled)\n",
    "y_proba_lgr = best_lgr.predict_proba(X_test_scaled)[:, 1]\n",
    "auc_roc_lgr = roc_auc_score(y_test, y_proba_lgr)\n",
    "accuracy_lgr = accuracy_score(y_test, y_pred_lgr)"
   ]
  },
  {
   "cell_type": "code",
   "execution_count": 29,
   "metadata": {},
   "outputs": [],
   "source": [
    "# XGBoost\n",
    "from xgboost import XGBClassifier\n",
    "# Initialize the model with an explicit evaluation metric\n",
    "xgb_clf = XGBClassifier(random_state=42, eval_metric='auc')  # You can also use 'logloss' if preferred\n",
    "\n",
    "# Train the model on the full training dataset\n",
    "xgb_clf.fit(X_train_scaled, y_train)\n",
    "\n",
    "# Make predictions\n",
    "y_pred_xgb = xgb_clf.predict(X_test_scaled)\n",
    "y_proba_xgb = xgb_clf.predict_proba(X_test_scaled)[:, 1]\n",
    "\n",
    "# Calculate metrics\n",
    "auc_roc_xgb = roc_auc_score(y_test, y_proba_xgb)\n",
    "accuracy_xgb = accuracy_score(y_test, y_pred_xgb)"
   ]
  },
  {
   "cell_type": "code",
   "execution_count": 30,
   "metadata": {},
   "outputs": [
    {
     "name": "stdout",
     "output_type": "stream",
     "text": [
      "Fitting 5 folds for each of 216 candidates, totalling 1080 fits\n"
     ]
    }
   ],
   "source": [
    "#Random Forest\n",
    "param_grid_rf = {\n",
    "    'n_estimators': [100, 200, 500],\n",
    "    'max_depth': [None, 10, 20, 30],\n",
    "    'min_samples_split': [2, 5, 10],\n",
    "    'min_samples_leaf': [1, 2, 4],\n",
    "    'bootstrap': [True, False]\n",
    "}\n",
    "\n",
    "# Initialize RandomForest model\n",
    "rf_clf = RandomForestClassifier(random_state=42)\n",
    "\n",
    "# Perform GridSearchCV\n",
    "grid_search_rf = GridSearchCV(\n",
    "    rf_clf, param_grid=param_grid_rf,\n",
    "    scoring='roc_auc', cv=5, verbose=1, n_jobs=-1\n",
    ")\n",
    "\n",
    "# Fit the model\n",
    "grid_search_rf.fit(X_train_scaled, y_train)\n",
    "\n",
    "# Best model and evaluation\n",
    "best_rf = grid_search_rf.best_estimator_\n",
    "y_pred_rf = best_rf.predict(X_test_scaled)\n",
    "y_proba_rf = best_rf.predict_proba(X_test_scaled)[:, 1]\n",
    "auc_roc_rf = roc_auc_score(y_test, y_proba_rf)\n",
    "accuracy_rf = accuracy_score(y_test, y_pred_rf)"
   ]
  },
  {
   "cell_type": "code",
   "execution_count": 33,
   "metadata": {
    "scrolled": true
   },
   "outputs": [
    {
     "name": "stdout",
     "output_type": "stream",
     "text": [
      "Fitting 5 folds for each of 108 candidates, totalling 540 fits\n"
     ]
    }
   ],
   "source": [
    "#CatBoost\n",
    "param_grid_catboost = {\n",
    "    'iterations': [100, 200],\n",
    "    'learning_rate': [0.01, 0.1, 0.2],\n",
    "    'depth': [4, 6, 8],\n",
    "    'l2_leaf_reg': [1, 3, 5],\n",
    "    'border_count': [32, 64]\n",
    "}\n",
    "\n",
    "# Initialize CatBoost model\n",
    "catboost_clf = CatBoostClassifier(random_state=42, verbose=0)\n",
    "\n",
    "# Perform GridSearchCV\n",
    "grid_search_catboost = GridSearchCV(\n",
    "    catboost_clf, param_grid=param_grid_catboost,\n",
    "    scoring='roc_auc', cv=5, verbose=1, n_jobs=-1\n",
    ")\n",
    "\n",
    "# Fit the model\n",
    "grid_search_catboost.fit(X_train_scaled, y_train)\n",
    "\n",
    "# Best model and evaluation\n",
    "best_cb = grid_search_catboost.best_estimator_\n",
    "y_pred_cb = best_cb.predict(X_test_scaled)\n",
    "y_proba_cb = best_cb.predict_proba(X_test_scaled)[:, 1]\n",
    "auc_roc_cb = roc_auc_score(y_test, y_proba_cb)\n",
    "accuracy_cb = accuracy_score(y_test, y_pred_cb)"
   ]
  },
  {
   "cell_type": "code",
   "execution_count": 34,
   "metadata": {
    "scrolled": true
   },
   "outputs": [
    {
     "name": "stdout",
     "output_type": "stream",
     "text": [
      "Logistic Regression AUC-ROC: 0.8039324797397871, Accuracy: 0.7638428774254614\n",
      "XGBoost AUC-ROC: 0.7935364867596524, Accuracy: 0.7600567912920019\n",
      "Random Forest AUC-ROC: 0.8137800457577594, Accuracy: 0.7553241836251775\n",
      "CatBoost AUC-ROC: 0.822947102927394, Accuracy: 0.7775674396592522\n"
     ]
    }
   ],
   "source": [
    "#Evaluate Models\n",
    "print(f\"Logistic Regression AUC-ROC: {auc_roc_lgr}, Accuracy: {accuracy_lgr}\")\n",
    "print(f\"XGBoost AUC-ROC: {auc_roc_xgb}, Accuracy: {accuracy_xgb}\")\n",
    "print(f\"Random Forest AUC-ROC: {auc_roc_rf}, Accuracy: {accuracy_rf}\")\n",
    "print(f\"CatBoost AUC-ROC: {auc_roc_cb}, Accuracy: {accuracy_cb}\")"
   ]
  },
  {
   "cell_type": "markdown",
   "metadata": {},
   "source": []
  },
  {
   "cell_type": "markdown",
   "metadata": {},
   "source": [
    "# Conclusion"
   ]
  },
  {
   "cell_type": "markdown",
   "metadata": {},
   "source": [
    "Here’s a comparison of the three models (Logistic Regression, XGBoost, and CatBoost) which helped me make a decision:\n",
    "\n",
    "1. Logistic Regression\n",
    "AUC-ROC: 0.8039\n",
    "Accuracy: 0.7638 Logistic Regression performs well, but both the AUC-ROC and accuracy are lower than CatBoost.\n",
    "\n",
    "\n",
    "2. XGBoost\n",
    "\n",
    "AUC-ROC: 0.7935\n",
    "Accuracy: 0.7601 XGBoost performs the worst in this case, both in AUC-ROC and accuracy, but it's still close to the others.\n",
    "\n",
    "\n",
    "3. CatBoost\n",
    "\n",
    "AUC-ROC: 0.8229 (best)\n",
    "Accuracy: 0.7776 (best) CatBoost has the highest AUC-ROC, indicating it's the most effective at distinguishing between classes. The accuracy is also the highest, making this model a strong candidate for final selection.\n",
    "\n",
    "4. Random Forest\n",
    "\n",
    "AUC-ROC: 0.8138 (second-best)\n",
    "Accuracy: 0.7553 While Random Forest has decent performance, it's still slightly behind CatBoost in both AUC-ROC and accuracy.\n",
    "\n",
    "\n",
    "\n",
    "Final Recommendation:\n",
    "\n",
    "CatBoost is our best option. It provides the highest AUC-ROC and accuracy scoring 4.5 SP, making it the most suitable model for our project. We can proceed with training CatBoost further and use it for our final predictions.\n",
    "\n",
    "Based on our needs for handling churn prediction and since our goal is to deploy a highly accurate and scalable model, CatBoost is be the best option, as it balances accuracy and ease of use.\n",
    "\n",
    "The predictive model developed in this project successfully achieves the goal of identifying customers likely to churn. With CatBoost’s exceptional performance and ease of implementation, Interconnect Telecom is well-positioned to proactively address churn, ultimately improving customer loyalty and business profitability."
   ]
  },
  {
   "cell_type": "code",
   "execution_count": null,
   "metadata": {},
   "outputs": [],
   "source": []
  }
 ],
 "metadata": {
  "ExecuteTimeLog": [
   {
    "duration": 850,
    "start_time": "2024-09-10T00:42:39.855Z"
   },
   {
    "duration": 67,
    "start_time": "2024-09-10T00:42:40.707Z"
   },
   {
    "duration": 18,
    "start_time": "2024-09-10T00:42:40.775Z"
   },
   {
    "duration": 5,
    "start_time": "2024-09-10T00:42:40.794Z"
   },
   {
    "duration": 13,
    "start_time": "2024-09-10T00:42:40.801Z"
   },
   {
    "duration": 20,
    "start_time": "2024-09-10T00:42:40.815Z"
   },
   {
    "duration": 12,
    "start_time": "2024-09-10T00:42:40.837Z"
   },
   {
    "duration": 9,
    "start_time": "2024-09-10T00:42:40.850Z"
   },
   {
    "duration": 7,
    "start_time": "2024-09-10T00:42:40.862Z"
   },
   {
    "duration": 2,
    "start_time": "2024-09-10T00:42:40.871Z"
   },
   {
    "duration": 8,
    "start_time": "2024-09-10T00:42:40.875Z"
   },
   {
    "duration": 4,
    "start_time": "2024-09-10T00:42:40.885Z"
   },
   {
    "duration": 0,
    "start_time": "2024-09-10T00:42:40.891Z"
   },
   {
    "duration": 0,
    "start_time": "2024-09-10T00:42:40.925Z"
   },
   {
    "duration": 0,
    "start_time": "2024-09-10T00:42:40.926Z"
   },
   {
    "duration": 0,
    "start_time": "2024-09-10T00:42:40.927Z"
   },
   {
    "duration": 0,
    "start_time": "2024-09-10T00:42:40.928Z"
   },
   {
    "duration": 0,
    "start_time": "2024-09-10T00:42:40.929Z"
   },
   {
    "duration": 0,
    "start_time": "2024-09-10T00:42:40.930Z"
   },
   {
    "duration": 0,
    "start_time": "2024-09-10T00:42:40.931Z"
   },
   {
    "duration": 0,
    "start_time": "2024-09-10T00:42:40.932Z"
   },
   {
    "duration": 0,
    "start_time": "2024-09-10T00:42:40.933Z"
   },
   {
    "duration": 3,
    "start_time": "2024-09-10T00:42:55.563Z"
   },
   {
    "duration": 96,
    "start_time": "2024-09-10T00:42:55.798Z"
   },
   {
    "duration": 2372,
    "start_time": "2024-09-10T00:42:56.400Z"
   },
   {
    "duration": 0,
    "start_time": "2024-09-10T00:42:58.774Z"
   },
   {
    "duration": 0,
    "start_time": "2024-09-10T00:42:58.776Z"
   },
   {
    "duration": 270,
    "start_time": "2024-09-10T00:42:59.563Z"
   },
   {
    "duration": 469,
    "start_time": "2024-09-10T00:42:59.835Z"
   },
   {
    "duration": 8407,
    "start_time": "2024-09-10T00:43:00.555Z"
   },
   {
    "duration": 8979,
    "start_time": "2024-09-10T00:43:08.965Z"
   },
   {
    "duration": 49537,
    "start_time": "2024-09-10T00:43:17.946Z"
   },
   {
    "duration": 0,
    "start_time": "2024-09-10T00:44:07.485Z"
   },
   {
    "duration": 809,
    "start_time": "2024-09-10T00:44:52.524Z"
   },
   {
    "duration": 31,
    "start_time": "2024-09-10T00:44:53.335Z"
   },
   {
    "duration": 18,
    "start_time": "2024-09-10T00:44:53.367Z"
   },
   {
    "duration": 5,
    "start_time": "2024-09-10T00:44:53.387Z"
   },
   {
    "duration": 14,
    "start_time": "2024-09-10T00:44:54.409Z"
   },
   {
    "duration": 21,
    "start_time": "2024-09-10T00:44:54.581Z"
   },
   {
    "duration": 12,
    "start_time": "2024-09-10T00:44:54.801Z"
   },
   {
    "duration": 9,
    "start_time": "2024-09-10T00:44:55.534Z"
   },
   {
    "duration": 7,
    "start_time": "2024-09-10T00:44:55.715Z"
   },
   {
    "duration": 3,
    "start_time": "2024-09-10T00:44:55.913Z"
   },
   {
    "duration": 8,
    "start_time": "2024-09-10T00:44:56.092Z"
   },
   {
    "duration": 325,
    "start_time": "2024-09-10T00:44:57.530Z"
   },
   {
    "duration": 219,
    "start_time": "2024-09-10T00:44:58.579Z"
   },
   {
    "duration": 127,
    "start_time": "2024-09-10T00:44:59.029Z"
   },
   {
    "duration": 3,
    "start_time": "2024-09-10T00:45:01.303Z"
   },
   {
    "duration": 105,
    "start_time": "2024-09-10T00:45:01.570Z"
   },
   {
    "duration": 263,
    "start_time": "2024-09-10T00:45:02.290Z"
   },
   {
    "duration": 469,
    "start_time": "2024-09-10T00:45:02.555Z"
   },
   {
    "duration": 4419,
    "start_time": "2024-09-10T00:45:03.026Z"
   },
   {
    "duration": 8999,
    "start_time": "2024-09-10T00:45:07.447Z"
   },
   {
    "duration": 56350,
    "start_time": "2024-09-10T00:45:16.448Z"
   },
   {
    "duration": 3,
    "start_time": "2024-09-10T00:46:12.801Z"
   },
   {
    "duration": 54,
    "start_time": "2024-09-10T00:46:29.590Z"
   },
   {
    "duration": 3066,
    "start_time": "2024-09-10T00:47:13.264Z"
   },
   {
    "duration": 35649,
    "start_time": "2024-09-10T00:47:38.598Z"
   },
   {
    "duration": 3,
    "start_time": "2024-09-10T00:48:29.038Z"
   },
   {
    "duration": 290194,
    "start_time": "2024-09-10T01:02:55.833Z"
   },
   {
    "duration": 0,
    "start_time": "2024-09-10T01:07:46.029Z"
   },
   {
    "duration": 703261,
    "start_time": "2024-09-10T01:20:19.232Z"
   },
   {
    "duration": 0,
    "start_time": "2024-09-10T01:32:02.495Z"
   },
   {
    "duration": 0,
    "start_time": "2024-09-10T01:32:02.496Z"
   },
   {
    "duration": 0,
    "start_time": "2024-09-10T01:32:02.497Z"
   },
   {
    "duration": 19,
    "start_time": "2024-09-10T01:32:24.433Z"
   },
   {
    "duration": 1058771,
    "start_time": "2024-09-10T01:32:25.385Z"
   },
   {
    "duration": 0,
    "start_time": "2024-09-10T01:50:04.157Z"
   },
   {
    "duration": 0,
    "start_time": "2024-09-10T01:50:04.159Z"
   },
   {
    "duration": 0,
    "start_time": "2024-09-10T01:50:04.160Z"
   },
   {
    "duration": 736334,
    "start_time": "2024-09-10T01:50:17.514Z"
   },
   {
    "duration": 903,
    "start_time": "2024-09-11T00:30:28.206Z"
   },
   {
    "duration": 65,
    "start_time": "2024-09-11T00:30:29.492Z"
   },
   {
    "duration": 19,
    "start_time": "2024-09-11T00:30:30.258Z"
   },
   {
    "duration": 6,
    "start_time": "2024-09-11T00:30:30.746Z"
   },
   {
    "duration": 14,
    "start_time": "2024-09-11T00:30:30.929Z"
   },
   {
    "duration": 20,
    "start_time": "2024-09-11T00:30:31.149Z"
   },
   {
    "duration": 12,
    "start_time": "2024-09-11T00:30:31.324Z"
   },
   {
    "duration": 9,
    "start_time": "2024-09-11T00:30:31.506Z"
   },
   {
    "duration": 8,
    "start_time": "2024-09-11T00:30:31.708Z"
   },
   {
    "duration": 3,
    "start_time": "2024-09-11T00:30:31.886Z"
   },
   {
    "duration": 9,
    "start_time": "2024-09-11T00:30:32.076Z"
   },
   {
    "duration": 2014,
    "start_time": "2024-09-11T00:30:32.828Z"
   },
   {
    "duration": 262,
    "start_time": "2024-09-11T00:30:34.845Z"
   },
   {
    "duration": 119,
    "start_time": "2024-09-11T00:30:35.108Z"
   },
   {
    "duration": 4,
    "start_time": "2024-09-11T00:30:35.229Z"
   },
   {
    "duration": 98,
    "start_time": "2024-09-11T00:30:35.242Z"
   },
   {
    "duration": 279,
    "start_time": "2024-09-11T00:30:35.365Z"
   },
   {
    "duration": 476,
    "start_time": "2024-09-11T00:30:35.646Z"
   },
   {
    "duration": 3186,
    "start_time": "2024-09-11T00:30:36.124Z"
   },
   {
    "duration": 4768,
    "start_time": "2024-09-11T00:30:39.312Z"
   },
   {
    "duration": 36224,
    "start_time": "2024-09-11T00:30:44.082Z"
   },
   {
    "duration": 8989,
    "start_time": "2024-09-11T00:31:20.307Z"
   },
   {
    "duration": 59808,
    "start_time": "2024-09-11T00:31:29.298Z"
   },
   {
    "duration": 3,
    "start_time": "2024-09-11T00:32:29.108Z"
   },
   {
    "duration": 348163,
    "start_time": "2024-09-11T00:32:29.113Z"
   },
   {
    "duration": 0,
    "start_time": "2024-09-11T00:38:17.278Z"
   },
   {
    "duration": 0,
    "start_time": "2024-09-11T00:38:17.280Z"
   },
   {
    "duration": 0,
    "start_time": "2024-09-11T00:38:17.281Z"
   },
   {
    "duration": 514979,
    "start_time": "2024-09-11T00:39:43.840Z"
   },
   {
    "duration": 634177,
    "start_time": "2024-09-11T00:48:18.822Z"
   },
   {
    "duration": 51,
    "start_time": "2024-09-11T00:58:53.001Z"
   },
   {
    "duration": 0,
    "start_time": "2024-09-11T00:58:53.054Z"
   },
   {
    "duration": 0,
    "start_time": "2024-09-11T00:58:53.055Z"
   },
   {
    "duration": 35,
    "start_time": "2024-09-11T01:42:40.759Z"
   },
   {
    "duration": 30,
    "start_time": "2024-09-11T01:42:49.726Z"
   },
   {
    "duration": 55,
    "start_time": "2024-09-11T01:43:29.471Z"
   },
   {
    "duration": 18,
    "start_time": "2024-09-11T01:43:29.765Z"
   },
   {
    "duration": 57,
    "start_time": "2024-09-11T01:43:59.999Z"
   },
   {
    "duration": 2193878,
    "start_time": "2024-09-11T01:45:46.058Z"
   },
   {
    "duration": 2636,
    "start_time": "2024-09-11T03:18:28.936Z"
   },
   {
    "duration": 1753055,
    "start_time": "2024-09-11T03:18:35.666Z"
   },
   {
    "duration": 267453,
    "start_time": "2024-09-11T03:47:51.390Z"
   },
   {
    "duration": 0,
    "start_time": "2024-09-11T03:52:18.846Z"
   },
   {
    "duration": 16,
    "start_time": "2024-09-11T03:52:30.807Z"
   },
   {
    "duration": 3,
    "start_time": "2024-09-11T03:54:06.670Z"
   },
   {
    "duration": 3,
    "start_time": "2024-09-11T03:55:07.218Z"
   },
   {
    "duration": 0,
    "start_time": "2024-09-11T04:30:12.656Z"
   },
   {
    "duration": 0,
    "start_time": "2024-09-11T04:30:12.658Z"
   },
   {
    "duration": 887321,
    "start_time": "2024-09-11T05:47:28.195Z"
   },
   {
    "duration": 0,
    "start_time": "2024-09-11T06:02:15.518Z"
   },
   {
    "duration": 53,
    "start_time": "2024-09-11T06:02:17.241Z"
   },
   {
    "duration": 53,
    "start_time": "2024-09-11T06:04:35.031Z"
   },
   {
    "duration": 883,
    "start_time": "2024-09-11T23:47:59.425Z"
   },
   {
    "duration": 35,
    "start_time": "2024-09-11T23:48:00.310Z"
   },
   {
    "duration": 19,
    "start_time": "2024-09-11T23:48:00.347Z"
   },
   {
    "duration": 5,
    "start_time": "2024-09-11T23:48:00.369Z"
   },
   {
    "duration": 15,
    "start_time": "2024-09-11T23:48:00.377Z"
   },
   {
    "duration": 29,
    "start_time": "2024-09-11T23:48:00.393Z"
   },
   {
    "duration": 12,
    "start_time": "2024-09-11T23:48:00.424Z"
   },
   {
    "duration": 10,
    "start_time": "2024-09-11T23:48:00.437Z"
   },
   {
    "duration": 7,
    "start_time": "2024-09-11T23:48:00.448Z"
   },
   {
    "duration": 5,
    "start_time": "2024-09-11T23:48:00.458Z"
   },
   {
    "duration": 8,
    "start_time": "2024-09-11T23:48:00.464Z"
   },
   {
    "duration": 311,
    "start_time": "2024-09-11T23:48:00.506Z"
   },
   {
    "duration": 264,
    "start_time": "2024-09-11T23:48:00.819Z"
   },
   {
    "duration": 121,
    "start_time": "2024-09-11T23:48:01.085Z"
   },
   {
    "duration": 3,
    "start_time": "2024-09-11T23:48:01.208Z"
   },
   {
    "duration": 120,
    "start_time": "2024-09-11T23:48:01.213Z"
   },
   {
    "duration": 292,
    "start_time": "2024-09-11T23:48:01.336Z"
   },
   {
    "duration": 489,
    "start_time": "2024-09-11T23:48:01.629Z"
   },
   {
    "duration": 3205,
    "start_time": "2024-09-11T23:48:02.120Z"
   },
   {
    "duration": 4815,
    "start_time": "2024-09-11T23:48:05.326Z"
   },
   {
    "duration": 36167,
    "start_time": "2024-09-11T23:48:10.143Z"
   },
   {
    "duration": 8947,
    "start_time": "2024-09-11T23:48:46.312Z"
   },
   {
    "duration": 59727,
    "start_time": "2024-09-11T23:48:55.261Z"
   },
   {
    "duration": 3,
    "start_time": "2024-09-11T23:49:54.989Z"
   },
   {
    "duration": 534739,
    "start_time": "2024-09-11T23:49:55.006Z"
   },
   {
    "duration": 632423,
    "start_time": "2024-09-11T23:58:49.747Z"
   },
   {
    "duration": 2189347,
    "start_time": "2024-09-12T00:09:22.172Z"
   },
   {
    "duration": 1952,
    "start_time": "2024-09-12T00:45:51.523Z"
   },
   {
    "duration": 8829502,
    "start_time": "2024-09-12T00:45:53.477Z"
   },
   {
    "duration": 0,
    "start_time": "2024-09-12T03:13:02.981Z"
   },
   {
    "duration": 35174,
    "start_time": "2024-09-12T03:13:34.543Z"
   },
   {
    "duration": 34922,
    "start_time": "2024-09-12T03:14:32.902Z"
   },
   {
    "duration": 3,
    "start_time": "2024-09-12T03:15:07.826Z"
   },
   {
    "duration": 925,
    "start_time": "2024-09-12T08:47:07.217Z"
   },
   {
    "duration": 323,
    "start_time": "2024-09-12T08:47:08.144Z"
   },
   {
    "duration": 17,
    "start_time": "2024-09-12T08:47:08.468Z"
   },
   {
    "duration": 4,
    "start_time": "2024-09-12T08:47:08.488Z"
   },
   {
    "duration": 13,
    "start_time": "2024-09-12T08:47:08.494Z"
   },
   {
    "duration": 19,
    "start_time": "2024-09-12T08:47:08.686Z"
   },
   {
    "duration": 12,
    "start_time": "2024-09-12T08:47:09.065Z"
   },
   {
    "duration": 9,
    "start_time": "2024-09-12T08:47:09.279Z"
   },
   {
    "duration": 8,
    "start_time": "2024-09-12T08:47:09.789Z"
   },
   {
    "duration": 4,
    "start_time": "2024-09-12T08:47:10.216Z"
   },
   {
    "duration": 8,
    "start_time": "2024-09-12T08:47:11.313Z"
   },
   {
    "duration": 1984,
    "start_time": "2024-09-12T08:47:12.675Z"
   },
   {
    "duration": 253,
    "start_time": "2024-09-12T08:47:14.661Z"
   },
   {
    "duration": 123,
    "start_time": "2024-09-12T08:47:16.036Z"
   },
   {
    "duration": 6,
    "start_time": "2024-09-12T08:47:25.943Z"
   },
   {
    "duration": 19,
    "start_time": "2024-09-12T08:47:29.849Z"
   },
   {
    "duration": 13,
    "start_time": "2024-09-12T08:51:00.240Z"
   },
   {
    "duration": 1028,
    "start_time": "2024-09-15T00:52:18.629Z"
   },
   {
    "duration": 85,
    "start_time": "2024-09-15T00:52:19.661Z"
   },
   {
    "duration": 36,
    "start_time": "2024-09-15T00:52:19.748Z"
   },
   {
    "duration": 5,
    "start_time": "2024-09-15T00:52:19.872Z"
   },
   {
    "duration": 15,
    "start_time": "2024-09-15T00:52:24.385Z"
   },
   {
    "duration": 30,
    "start_time": "2024-09-15T00:52:34.550Z"
   },
   {
    "duration": 16,
    "start_time": "2024-09-15T00:52:40.229Z"
   },
   {
    "duration": 11,
    "start_time": "2024-09-15T00:52:43.072Z"
   },
   {
    "duration": 8,
    "start_time": "2024-09-15T00:52:45.990Z"
   },
   {
    "duration": 3,
    "start_time": "2024-09-15T00:52:47.908Z"
   },
   {
    "duration": 9,
    "start_time": "2024-09-15T00:52:48.874Z"
   },
   {
    "duration": 2446,
    "start_time": "2024-09-15T00:53:51.500Z"
   },
   {
    "duration": 284,
    "start_time": "2024-09-15T00:53:54.354Z"
   },
   {
    "duration": 130,
    "start_time": "2024-09-15T00:54:01.529Z"
   },
   {
    "duration": 4,
    "start_time": "2024-09-15T00:54:12.464Z"
   },
   {
    "duration": 12,
    "start_time": "2024-09-15T00:54:13.107Z"
   },
   {
    "duration": 99,
    "start_time": "2024-09-15T00:54:23.251Z"
   },
   {
    "duration": 309,
    "start_time": "2024-09-15T00:54:24.279Z"
   },
   {
    "duration": 536,
    "start_time": "2024-09-15T00:54:26.112Z"
   },
   {
    "duration": 8313,
    "start_time": "2024-09-15T00:54:27.857Z"
   },
   {
    "duration": 10186,
    "start_time": "2024-09-15T00:54:36.172Z"
   },
   {
    "duration": 135487,
    "start_time": "2024-09-15T00:54:46.360Z"
   },
   {
    "duration": 10456,
    "start_time": "2024-09-15T00:57:01.855Z"
   },
   {
    "duration": 70390,
    "start_time": "2024-09-15T00:57:12.313Z"
   },
   {
    "duration": 3,
    "start_time": "2024-09-15T00:58:22.705Z"
   },
   {
    "duration": 114357,
    "start_time": "2024-09-15T00:58:22.710Z"
   },
   {
    "duration": 0,
    "start_time": "2024-09-15T01:00:17.069Z"
   },
   {
    "duration": 0,
    "start_time": "2024-09-15T01:00:17.071Z"
   },
   {
    "duration": 0,
    "start_time": "2024-09-15T01:00:17.072Z"
   },
   {
    "duration": 0,
    "start_time": "2024-09-15T01:00:17.073Z"
   },
   {
    "duration": 136,
    "start_time": "2024-09-15T01:25:34.144Z"
   },
   {
    "duration": 6351409,
    "start_time": "2024-09-15T01:27:50.861Z"
   },
   {
    "duration": 0,
    "start_time": "2024-09-15T03:13:42.273Z"
   },
   {
    "duration": 0,
    "start_time": "2024-09-15T03:13:42.274Z"
   },
   {
    "duration": 0,
    "start_time": "2024-09-15T03:13:42.275Z"
   },
   {
    "duration": 0,
    "start_time": "2024-09-15T03:13:42.277Z"
   },
   {
    "duration": 112693,
    "start_time": "2024-09-15T03:14:05.668Z"
   },
   {
    "duration": 0,
    "start_time": "2024-09-15T03:27:39.364Z"
   },
   {
    "duration": 1037448,
    "start_time": "2024-09-15T03:27:48.091Z"
   },
   {
    "duration": 22277023,
    "start_time": "2024-09-15T04:08:41.326Z"
   },
   {
    "duration": 2106576,
    "start_time": "2024-09-15T10:19:58.351Z"
   },
   {
    "duration": 983059,
    "start_time": "2024-09-15T10:55:04.932Z"
   },
   {
    "duration": 16,
    "start_time": "2024-09-15T11:11:27.994Z"
   },
   {
    "duration": 874,
    "start_time": "2024-09-17T00:18:56.037Z"
   },
   {
    "duration": 65,
    "start_time": "2024-09-17T00:18:56.913Z"
   },
   {
    "duration": 18,
    "start_time": "2024-09-17T00:18:56.980Z"
   },
   {
    "duration": 5,
    "start_time": "2024-09-17T00:18:57.000Z"
   },
   {
    "duration": 14,
    "start_time": "2024-09-17T00:18:57.006Z"
   },
   {
    "duration": 18,
    "start_time": "2024-09-17T00:18:57.058Z"
   },
   {
    "duration": 12,
    "start_time": "2024-09-17T00:18:57.269Z"
   },
   {
    "duration": 10,
    "start_time": "2024-09-17T00:18:57.562Z"
   },
   {
    "duration": 10,
    "start_time": "2024-09-17T00:18:57.814Z"
   },
   {
    "duration": 3,
    "start_time": "2024-09-17T00:18:58.009Z"
   },
   {
    "duration": 9,
    "start_time": "2024-09-17T00:18:58.236Z"
   },
   {
    "duration": 2035,
    "start_time": "2024-09-17T00:18:59.169Z"
   },
   {
    "duration": 290,
    "start_time": "2024-09-17T00:19:01.207Z"
   },
   {
    "duration": 111,
    "start_time": "2024-09-17T00:19:01.499Z"
   },
   {
    "duration": 4,
    "start_time": "2024-09-17T00:19:02.439Z"
   },
   {
    "duration": 15,
    "start_time": "2024-09-17T00:19:03.112Z"
   },
   {
    "duration": 93,
    "start_time": "2024-09-17T00:19:04.488Z"
   },
   {
    "duration": 266,
    "start_time": "2024-09-17T00:19:06.090Z"
   },
   {
    "duration": 472,
    "start_time": "2024-09-17T00:19:06.624Z"
   },
   {
    "duration": 9544,
    "start_time": "2024-09-17T00:19:07.456Z"
   },
   {
    "duration": 8755,
    "start_time": "2024-09-17T00:19:17.002Z"
   },
   {
    "duration": 122743,
    "start_time": "2024-09-17T00:19:25.758Z"
   },
   {
    "duration": 9255,
    "start_time": "2024-09-17T00:21:28.503Z"
   },
   {
    "duration": 61357,
    "start_time": "2024-09-17T00:21:37.760Z"
   },
   {
    "duration": 4,
    "start_time": "2024-09-17T00:22:39.119Z"
   },
   {
    "duration": 909637,
    "start_time": "2024-09-17T00:23:26.575Z"
   },
   {
    "duration": 72,
    "start_time": "2024-09-17T00:38:36.214Z"
   },
   {
    "duration": 0,
    "start_time": "2024-09-17T00:38:36.289Z"
   },
   {
    "duration": 0,
    "start_time": "2024-09-17T00:38:36.294Z"
   },
   {
    "duration": 0,
    "start_time": "2024-09-17T00:38:36.295Z"
   },
   {
    "duration": 55800124,
    "start_time": "2024-09-17T00:47:54.481Z"
   },
   {
    "duration": 0,
    "start_time": "2024-09-17T16:17:54.608Z"
   },
   {
    "duration": 0,
    "start_time": "2024-09-17T16:17:54.609Z"
   },
   {
    "duration": 0,
    "start_time": "2024-09-17T16:17:54.610Z"
   },
   {
    "duration": 205541,
    "start_time": "2024-09-17T16:19:29.849Z"
   },
   {
    "duration": 4207730,
    "start_time": "2024-09-17T17:12:18.291Z"
   },
   {
    "duration": 3501353,
    "start_time": "2024-09-17T19:23:39.974Z"
   },
   {
    "duration": 0,
    "start_time": "2024-09-17T20:22:01.329Z"
   },
   {
    "duration": 3512482,
    "start_time": "2024-09-17T21:08:46.125Z"
   },
   {
    "duration": 0,
    "start_time": "2024-09-17T22:07:18.609Z"
   },
   {
    "duration": 3509006,
    "start_time": "2024-09-18T02:43:16.473Z"
   },
   {
    "duration": 3,
    "start_time": "2024-09-18T03:41:45.481Z"
   }
  ],
  "kernelspec": {
   "display_name": "Python 3 (ipykernel)",
   "language": "python",
   "name": "python3"
  },
  "language_info": {
   "codemirror_mode": {
    "name": "ipython",
    "version": 3
   },
   "file_extension": ".py",
   "mimetype": "text/x-python",
   "name": "python",
   "nbconvert_exporter": "python",
   "pygments_lexer": "ipython3",
   "version": "3.9.19"
  },
  "toc": {
   "base_numbering": 1,
   "nav_menu": {},
   "number_sections": true,
   "sideBar": true,
   "skip_h1_title": true,
   "title_cell": "Table of Contents",
   "title_sidebar": "Contents",
   "toc_cell": false,
   "toc_position": {},
   "toc_section_display": true,
   "toc_window_display": false
  }
 },
 "nbformat": 4,
 "nbformat_minor": 2
}
